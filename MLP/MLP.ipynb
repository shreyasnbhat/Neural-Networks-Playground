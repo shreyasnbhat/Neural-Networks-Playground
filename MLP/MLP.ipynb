{
 "cells": [
  {
   "cell_type": "markdown",
   "metadata": {},
   "source": [
    "# Perceptron and Multi-Layer Perceptron\n",
    "\n",
    "First the imports, Always"
   ]
  },
  {
   "cell_type": "code",
   "execution_count": 3,
   "metadata": {},
   "outputs": [],
   "source": [
    "import numpy as np\n",
    "import matplotlib.pyplot as mp"
   ]
  },
  {
   "cell_type": "markdown",
   "metadata": {},
   "source": [
    "## Artificial Neural Networks\n",
    "\n",
    "There are many ways of knitting the nodes of a neural network together, and each way results in a more or less complex behavior. Possibly the simplest of all topologies is the feed-forward network. Signals flow in one direction only; there is never any loop in the signal paths.\n",
    "\n",
    "![title](img/NNFL_1.png)\n"
   ]
  },
  {
   "cell_type": "markdown",
   "metadata": {},
   "source": [
    "Typically, ANN’s have a layered structure. The input layer picks up the input signals and passes them on to the next layer, the so-called ‘hidden’ layer. (Actually, there may be more than one hidden layer in a neural network.) Last comes the output layer that delivers the result.\n",
    "\n",
    "Note: Input layer is not a layer as such, and should not be called an input layer, rather, should be named only as \"Inputs\". However, since many of the textbooks do adhere to this notation, we use the term input layer here.\n",
    "\n",
    "![title](img/NNFL_2.png)\n"
   ]
  },
  {
   "cell_type": "markdown",
   "metadata": {},
   "source": [
    "Just like a biological neuron has dendrites to receive signals, a cell body to process them, and an axon to send signals out to other neurons, the artificial neuron has a number of input channels, a processing stage, and one output that can fan out to multiple other artificial neurons."
   ]
  },
  {
   "cell_type": "markdown",
   "metadata": {},
   "source": [
    "#### 1) Each input gets scaled up or down\n",
    "\n",
    "When a signal comes in, it gets multiplied by a weight value that is assigned to this particular input. That is, if a neuron has three inputs, then it has three weights that can be adjusted individually. During the learning phase, the neural network can adjust the weights based on the error of the last test result.\n",
    "\n",
    "#### 2) All signals are summed up\n",
    "\n",
    "In the next step, the modified input signals are summed up to a single value. In this step, an offset is also added to the sum. This offset is called bias. The neural network also adjusts the bias during the learning phase.\n",
    "\n",
    "This is where the magic happens! At the start, all the neurons have random weights and random biases. After each learning iteration, weights and biases are gradually shifted so that the next result is a bit closer to the desired output. This way, the neural network gradually moves towards a state where the desired patterns are “learned”.\n",
    "\n",
    "#### 3) Activation\n",
    "\n",
    "Finally, the result of the neuron’s calculation is turned into an output signal. This is done by feeding the result to an activation function (also called transfer function)."
   ]
  },
  {
   "cell_type": "markdown",
   "metadata": {},
   "source": [
    "# The Perceptron"
   ]
  },
  {
   "cell_type": "markdown",
   "metadata": {},
   "source": [
    "The most basic form of an activation function is a simple binary function that has only two possible results.\n",
    "\n",
    "![title](img/NNFL_3.png)\n"
   ]
  },
  {
   "cell_type": "markdown",
   "metadata": {},
   "source": [
    "This function returns 1 if the input is positive or zero, and 0 for any negative input. A neuron whose activation function is a function like this is called a perceptron.\n",
    "\n",
    "![title](img/NNFL_4.png)\n"
   ]
  },
  {
   "cell_type": "markdown",
   "metadata": {},
   "source": [
    "A single perceptron, as bare and simple as it might appear, is able to learn where this line is, and when it finished learning, it can tell whether a given point is above or below that line."
   ]
  },
  {
   "cell_type": "markdown",
   "metadata": {},
   "source": [
    "## Single Perceptron for a two input AND gate "
   ]
  },
  {
   "cell_type": "code",
   "execution_count": 283,
   "metadata": {},
   "outputs": [],
   "source": [
    "def activation(x):\n",
    "    ypred = np.zeros(x.shape)\n",
    "    ypred[x>=0]=1\n",
    "    ypred[x<0]=-1\n",
    "    return ypred\n",
    "\n",
    "def mse(y,y_dash):\n",
    "    return np.sqrt((1/len(y)) * np.sum(np.square(y-y_dash)))\n",
    "\n",
    "def linear_combination(weights,x,bias):\n",
    "    return np.dot(weights,x) + bias\n",
    "\n",
    "def sigmoid(x):\n",
    "    return 1/(1 + np.exp(-x))"
   ]
  },
  {
   "cell_type": "code",
   "execution_count": 100,
   "metadata": {},
   "outputs": [],
   "source": [
    "weights = np.random.randn(2,1)\n",
    "bias = 0"
   ]
  },
  {
   "cell_type": "code",
   "execution_count": 101,
   "metadata": {},
   "outputs": [],
   "source": [
    "# Learning here\n",
    "iterations = 1000\n",
    "learning_rate = 0.01\n",
    "m = 4\n",
    "X = np.array([[-1,-1],[-1,1],[1,-1],[1,1]]).T\n",
    "Y = np.array([-1,-1,-1,1])\n",
    "N = X.shape[0]"
   ]
  },
  {
   "cell_type": "code",
   "execution_count": 102,
   "metadata": {},
   "outputs": [],
   "source": [
    "losses = []\n",
    "\n",
    "for i in range(iterations):\n",
    "    Y_dash = activation(linear_combination(weights,X,bias))    \n",
    "    \n",
    "    #BackProp\n",
    "    loss = mse(Y,Y_dash)\n",
    "    m_grad = (2/m) * np.sum(X * (Y_dash - Y))\n",
    "    c_grad = (2/m) * np.sum(Y_dash - Y)\n",
    "    weights-= learning_rate * m_grad\n",
    "    bias-= learning_rate * c_grad\n",
    "    losses.append(loss)\n",
    "    "
   ]
  },
  {
   "cell_type": "code",
   "execution_count": 93,
   "metadata": {},
   "outputs": [
    {
     "data": {
      "image/png": "[encoded data removed]",
      "text/plain": [
       "<matplotlib.figure.Figure at 0x7f1495674630>"
      ]
     },
     "metadata": {},
     "output_type": "display_data"
    }
   ],
   "source": [
    "mp.plot(losses)\n",
    "mp.show()"
   ]
  },
  {
   "cell_type": "code",
   "execution_count": 103,
   "metadata": {},
   "outputs": [
    {
     "name": "stdout",
     "output_type": "stream",
     "text": [
      "[[-1.]\n",
      " [-1.]\n",
      " [-1.]\n",
      " [ 1.]]\n"
     ]
    }
   ],
   "source": [
    "print(activation(linear_combination(X,weights,bias)))"
   ]
  },
  {
   "cell_type": "markdown",
   "metadata": {},
   "source": [
    "## Now lets try the same thing with a XOR Gate using MLP\n",
    "\n",
    "Let's initialize the dataset"
   ]
  },
  {
   "cell_type": "code",
   "execution_count": 353,
   "metadata": {},
   "outputs": [],
   "source": [
    "m = 4\n",
    "X = np.array([[0,0],[0,1],[1,0],[1,1]]).T\n",
    "Y = np.array([0,1,1,0]).reshape(1,4)"
   ]
  },
  {
   "cell_type": "markdown",
   "metadata": {
    "collapsed": true
   },
   "source": [
    "# Multi-Layered Perceptron\n",
    "\n",
    "As we can see the XOR Gate fails on a single perceptron. A look at the graph will give us enough intuition as to why this is the case.\n",
    "\n",
    "![title](img/xor.png)\n",
    "\n",
    " We need two lines instead of the one generated by the perceptron. Since we obviously can't use a single perceptron for this case we have to make our architecture slightly more complex. We'll use the backpropagation algorithm. This has two phases :\n",
    " \n",
    " 1) <b>Forward Propagation</b> (Exactly what happens during a normal perceptron)\n",
    " \n",
    " 2) <b>Backpropagation</b> (Calculating the errors and updating weights. This differs between layers)\n",
    "\n",
    "![title](img/backprop1.png)\n",
    "\n",
    "![title](img/backprop2.png)\n",
    "\n"
   ]
  },
  {
   "cell_type": "markdown",
   "metadata": {},
   "source": [
    "### Sigmoid Function (Activation)\n",
    "\n",
    "Lets make the activation function that we'll be using. This activation function is called sigmoid and is extremely useful because of one particular property that makes it valuable during backpropagation. It also squashes the output between 0 and 1 making it easier for us to calculate probabilities for the output signals.\n",
    "#### This is the equation\n",
    "![title](img/sigmoid_equation.png)\n",
    "\n",
    "\n",
    "![title](img/sigmoid_curve.png)\n",
    "\n",
    "\n",
    "We see that when we differentiate this equation we get a very simple equation.\n",
    "#### The differentiation\n",
    "![title](img/sigmoid_derivative.jpg)\n",
    " \n",
    "\n",
    "Using this during the backpropagation phase of the algorithm is computationally less intensive than calculating other gradients. (And easier to code :P)"
   ]
  },
  {
   "cell_type": "markdown",
   "metadata": {},
   "source": [
    "## Assembling the MLP together\n",
    "\n",
    "### First initialize all the variables and set the hyperparameters"
   ]
  },
  {
   "cell_type": "code",
   "execution_count": 365,
   "metadata": {},
   "outputs": [],
   "source": [
    "def sigmoid_grad(x):\n",
    "    return x*(1-x)"
   ]
  },
  {
   "cell_type": "code",
   "execution_count": 376,
   "metadata": {},
   "outputs": [],
   "source": [
    "w1 = np.random.randn(3,2) \n",
    "b1 = np.zeros((3,1))\n",
    "w2 = np.random.randn(1,3) \n",
    "b2 = np.zeros((1,1))\n",
    "epochs = 5000\n",
    "learning_rate = 1"
   ]
  },
  {
   "cell_type": "markdown",
   "metadata": {},
   "source": [
    "### Now for the actual algorithm"
   ]
  },
  {
   "cell_type": "code",
   "execution_count": 384,
   "metadata": {},
   "outputs": [
    {
     "data": {
      "image/png": "[encoded data removed]",
      "text/plain": [
       "<matplotlib.figure.Figure at 0x7f1495115d30>"
      ]
     },
     "metadata": {},
     "output_type": "display_data"
    }
   ],
   "source": [
    "def forward_prop(X):\n",
    "    z1 = linear_combination(w1,X,b1)\n",
    "    a1 = sigmoid(z1)\n",
    "    z2 = linear_combination(w2,a1,b2)\n",
    "    a2 = sigmoid(z2)\n",
    "    y = np.zeros(a2.shape)\n",
    "    y[a2>=0.5] = 1\n",
    "    y[a2<0.5] = 0\n",
    "    \n",
    "    return z1,a1,z2,a2,y\n",
    "\n",
    "losses = []\n",
    "for i in range(epochs):\n",
    "    z1,a1,z2,a2,_ = forward_prop(X)\n",
    "    \n",
    "    #Back Prop\n",
    "    loss = mse(Y,a2)\n",
    "    losses.append(loss)\n",
    "    \n",
    "    da2 = (1/m) * (a2 - Y)\n",
    "    dZ2 = da2 * sigmoid_grad(a2)\n",
    "    dw2 = np.dot(dZ2,a1.T)\n",
    "    db2 = np.sum(dZ2,axis=1,keepdims=True)\n",
    "    \n",
    "    da1 = np.dot(w2.T,dZ2) \n",
    "    dZ1 = da1 * sigmoid_grad(a1)\n",
    "    dw1 = np.dot(dZ1,X.T)\n",
    "    db1 = (1/m) * np.sum(dZ1)\n",
    "                         \n",
    "    w2-= learning_rate * dw2\n",
    "    b2-= learning_rate * db2\n",
    "    w1-= learning_rate * dw1\n",
    "    b1-= learning_rate * db1\n",
    "    \n",
    "mp.plot(losses)\n",
    "mp.show()"
   ]
  },
  {
   "cell_type": "code",
   "execution_count": 385,
   "metadata": {},
   "outputs": [
    {
     "name": "stdout",
     "output_type": "stream",
     "text": [
      "[[0. 1. 1. 0.]]\n"
     ]
    }
   ],
   "source": [
    "# Testing Here\n",
    "print(forward_prop(X)[4])"
   ]
  }
 ],
 "metadata": {
  "anaconda-cloud": {},
  "kernelspec": {
   "display_name": "Python 3",
   "language": "python",
   "name": "python3"
  },
  "language_info": {
   "codemirror_mode": {
    "name": "ipython",
    "version": 3
   },
   "file_extension": ".py",
   "mimetype": "text/x-python",
   "name": "python",
   "nbconvert_exporter": "python",
   "pygments_lexer": "ipython3",
   "version": "3.5.2"
  }
 },
 "nbformat": 4,
 "nbformat_minor": 1
}
