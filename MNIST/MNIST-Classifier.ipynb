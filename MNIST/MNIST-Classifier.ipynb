{
 "cells": [
  {
   "cell_type": "code",
   "execution_count": 3,
   "metadata": {},
   "outputs": [
    {
     "name": "stderr",
     "output_type": "stream",
     "text": [
      "Using TensorFlow backend.\n"
     ]
    }
   ],
   "source": [
    "import keras\n",
    "from keras.models import Sequential\n",
    "from keras.layers import Input,Dense, Activation, ZeroPadding2D, BatchNormalization, Flatten, Conv2D,MaxPooling2D\n",
    "from keras.optimizers import SGD\n",
    "from keras.models import Model\n",
    "import pandas as pd\n",
    "import numpy as np\n",
    "import matplotlib.pyplot as mp"
   ]
  },
  {
   "cell_type": "code",
   "execution_count": 4,
   "metadata": {},
   "outputs": [
    {
     "name": "stdout",
     "output_type": "stream",
     "text": [
      "Index(['pixel0', 'pixel1', 'pixel2', 'pixel3', 'pixel4', 'pixel5', 'pixel6',\n",
      "       'pixel7', 'pixel8', 'pixel9',\n",
      "       ...\n",
      "       'pixel774', 'pixel775', 'pixel776', 'pixel777', 'pixel778', 'pixel779',\n",
      "       'pixel780', 'pixel781', 'pixel782', 'pixel783'],\n",
      "      dtype='object', length=784)\n",
      "Total number of examples in the train set: 42000\n"
     ]
    }
   ],
   "source": [
    "train_data = pd.read_csv('data/train.csv')\n",
    "pixels = train_data.columns[1:]\n",
    "print(pixels)\n",
    "X, Y = np.array(train_data[pixels]),np.array(train_data['label'])\n",
    "m = Y.size\n",
    "print(\"Total number of examples in the train set:\" , m) "
   ]
  },
  {
   "cell_type": "code",
   "execution_count": 6,
   "metadata": {},
   "outputs": [
    {
     "name": "stdout",
     "output_type": "stream",
     "text": [
      "Train Set examples: 40000\n",
      "Test Set examples: 2000\n"
     ]
    }
   ],
   "source": [
    "train_m = 40000\n",
    "test_m = m - train_m\n",
    "print(\"Train Set examples:\" , train_m)\n",
    "print(\"Test Set examples:\" , test_m)"
   ]
  },
  {
   "cell_type": "code",
   "execution_count": 7,
   "metadata": {},
   "outputs": [],
   "source": [
    "X_train,Y_train,X_test,Y_test = X[:train_m,:],Y[:train_m],X[train_m:,:],Y[train_m:]"
   ]
  },
  {
   "cell_type": "code",
   "execution_count": 8,
   "metadata": {},
   "outputs": [],
   "source": [
    "# Scale the pixel values\n",
    "X_train = X_train/255\n",
    "X_test = X_test/255\n",
    "\n",
    "Y_train = np.squeeze(Y_train)\n",
    "b = np.zeros((train_m,10))\n",
    "b[np.arange(train_m),Y_train] = 1\n",
    "Y_train = b\n",
    "\n",
    "Y_test = np.squeeze(Y_test)\n",
    "b = np.zeros((test_m,10))\n",
    "b[np.arange(test_m),Y_test] = 1\n",
    "Y_test = b"
   ]
  },
  {
   "cell_type": "code",
   "execution_count": 9,
   "metadata": {},
   "outputs": [],
   "source": [
    "def reshape(X):\n",
    "    return X.reshape((28,28))\n",
    "    "
   ]
  },
  {
   "cell_type": "code",
   "execution_count": 15,
   "metadata": {},
   "outputs": [],
   "source": [
    "def MNISTModel(input_shape):\n",
    "    \n",
    "    #Define the Input Shape\n",
    "    X_input = Input(input_shape)\n",
    "    \n",
    "    # CONV -> CONV -> MAXPOOL -> CONV -> CONV -> MAXPOOL -> DENSE\n",
    "    for i in range(2):\n",
    "        X = ZeroPadding2D(padding=(2,2),data_format='channels_last')(X_input)\n",
    "        X = Conv2D(20,(5,5), strides = (1,1), name = 'conv0' + str(i), data_format = 'channels_last')(X)\n",
    "        X = BatchNormalization(axis = 3,name = 'bn0' + str(i))(X)\n",
    "        X = Activation('relu')(X)\n",
    "    \n",
    "    X = MaxPooling2D((2,2), name='max_pool0', data_format = 'channels_last')(X)\n",
    "    \n",
    "    for i in range(2):\n",
    "        X = ZeroPadding2D(padding=(2,2),data_format='channels_last')(X_input)\n",
    "        X = Conv2D(20,(3,3), strides = (1,1), name = 'conv1' + str(i), data_format = 'channels_last')(X)\n",
    "        X = BatchNormalization(axis = 3,name = 'bn1' + str(i))(X)\n",
    "        X = Activation('relu')(X)\n",
    "    \n",
    "    X = MaxPooling2D((2,2), name='max_pool1', data_format = 'channels_last')(X)\n",
    "    \n",
    "    X = Flatten()(X)\n",
    "    X = Dense(10,activation='softmax',name='fc0')(X)\n",
    "    \n",
    "    model = Model(inputs = X_input , outputs = X , name = 'MNISTModel')\n",
    "    return model"
   ]
  },
  {
   "cell_type": "code",
   "execution_count": 16,
   "metadata": {},
   "outputs": [],
   "source": [
    "model = MNISTModel((28,28,1))\n",
    "mnist_model = model.compile(optimizer='adam',loss='categorical_crossentropy',metrics = ['accuracy'])"
   ]
  },
  {
   "cell_type": "code",
   "execution_count": 35,
   "metadata": {
    "scrolled": true
   },
   "outputs": [
    {
     "name": "stdout",
     "output_type": "stream",
     "text": [
      "(40000, 28, 28, 1) (40000, 10)\n",
      "Epoch 1/2\n",
      "40000/40000 [==============================] - 43s 1ms/step - loss: 0.0057 - acc: 0.9982\n",
      "Epoch 2/2\n",
      "40000/40000 [==============================] - 50s 1ms/step - loss: 0.0047 - acc: 0.9986\n"
     ]
    }
   ],
   "source": [
    "X_train = X_train.reshape((train_m,28,28,1))\n",
    "print(X_train.shape , Y_train.shape)\n",
    "history = model.fit(x=X_train, y=Y_train, batch_size=8, epochs=2)"
   ]
  },
  {
   "cell_type": "code",
   "execution_count": 36,
   "metadata": {
    "scrolled": true
   },
   "outputs": [
    {
     "name": "stdout",
     "output_type": "stream",
     "text": [
      "2000/2000 [==============================] - 1s 651us/step\n",
      "\n",
      "Loss = 0.09289032824054448\n",
      "Test Accuracy = 0.9825\n"
     ]
    },
    {
     "data": {
      "image/png": "[encoded data removed]",
      "text/plain": [
       "<matplotlib.figure.Figure at 0x7f4a224be860>"
      ]
     },
     "metadata": {},
     "output_type": "display_data"
    }
   ],
   "source": [
    "X_test = X_test.reshape((test_m,28,28,1))\n",
    "preds = model.evaluate(x=X_test,y=Y_test)\n",
    "\n",
    "print()\n",
    "print (\"Loss = \" + str(preds[0]))\n",
    "print (\"Test Accuracy = \" + str(preds[1]))\n",
    "\n",
    "mp.plot(history.history['loss'])\n",
    "mp.xlabel('Epochs')\n",
    "mp.ylabel(\"Loss\")\n",
    "mp.show()"
   ]
  },
  {
   "cell_type": "code",
   "execution_count": 37,
   "metadata": {},
   "outputs": [],
   "source": [
    "test_data = np.array(pd.read_csv('data/test.csv'))\n",
    "test_set_examples = test_data.shape[0]\n",
    "test_data = test_data.reshape((test_set_examples,28,28,1))\n",
    "test_data = test_data/255"
   ]
  },
  {
   "cell_type": "code",
   "execution_count": 38,
   "metadata": {},
   "outputs": [
    {
     "name": "stdout",
     "output_type": "stream",
     "text": [
      "[2 0 9 ... 3 9 2]\n"
     ]
    }
   ],
   "source": [
    "y_pred_softmax = model.predict(test_data)\n",
    "y_pred_number = np.argmax(y_pred_softmax,axis = 1)\n",
    "print(y_pred_number)"
   ]
  },
  {
   "cell_type": "code",
   "execution_count": 39,
   "metadata": {},
   "outputs": [],
   "source": [
    "def show(i):\n",
    "    print(\"Prediction:\", y_pred_number[i])\n",
    "    mp.imshow(test_data[i].reshape((28,28)), interpolation='nearest')\n",
    "    mp.show()"
   ]
  },
  {
   "cell_type": "code",
   "execution_count": 40,
   "metadata": {},
   "outputs": [
    {
     "name": "stdout",
     "output_type": "stream",
     "text": [
      "Prediction: 2\n"
     ]
    },
    {
     "data": {
      "image/png": "[encoded data removed]",
      "text/plain": [
       "<matplotlib.figure.Figure at 0x7f4a22499898>"
      ]
     },
     "metadata": {},
     "output_type": "display_data"
    },
    {
     "name": "stdout",
     "output_type": "stream",
     "text": [
      "Prediction: 0\n"
     ]
    },
    {
     "data": {
      "image/png": "[encoded data removed]",
      "text/plain": [
       "<matplotlib.figure.Figure at 0x7f4a223cfeb8>"
      ]
     },
     "metadata": {},
     "output_type": "display_data"
    },
    {
     "name": "stdout",
     "output_type": "stream",
     "text": [
      "Prediction: 9\n"
     ]
    },
    {
     "data": {
      "image/png": "[encoded data removed]",
      "text/plain": [
       "<matplotlib.figure.Figure at 0x7f4a223849b0>"
      ]
     },
     "metadata": {},
     "output_type": "display_data"
    },
    {
     "name": "stdout",
     "output_type": "stream",
     "text": [
      "Prediction: 9\n"
     ]
    },
    {
     "data": {
      "image/png": "[encoded data removed]",
      "text/plain": [
       "<matplotlib.figure.Figure at 0x7f4a222ef160>"
      ]
     },
     "metadata": {},
     "output_type": "display_data"
    },
    {
     "name": "stdout",
     "output_type": "stream",
     "text": [
      "Prediction: 3\n"
     ]
    },
    {
     "data": {
      "image/png": "[encoded data removed]",
      "text/plain": [
       "<matplotlib.figure.Figure at 0x7f4a222c7b70>"
      ]
     },
     "metadata": {},
     "output_type": "display_data"
    }
   ],
   "source": [
    "for i in range(5):\n",
    "    show(i)"
   ]
  },
  {
   "cell_type": "markdown",
   "metadata": {},
   "source": [
    "### Train Accuracy: 99.96%\n",
    "### Test Accuracy: 97.64"
   ]
  },
  {
   "cell_type": "code",
   "execution_count": 41,
   "metadata": {},
   "outputs": [],
   "source": [
    "# Store results in the csv\n",
    "resultFrame = pd.read_csv('data/test.csv')\n",
    "resultFrame['label'] = y_pred_number\n",
    "resultFrame.to_csv('data/results.csv')"
   ]
  },
  {
   "cell_type": "code",
   "execution_count": null,
   "metadata": {},
   "outputs": [],
   "source": []
  }
 ],
 "metadata": {
  "kernelspec": {
   "display_name": "Python 3",
   "language": "python",
   "name": "python3"
  },
  "language_info": {
   "codemirror_mode": {
    "name": "ipython",
    "version": 3
   },
   "file_extension": ".py",
   "mimetype": "text/x-python",
   "name": "python",
   "nbconvert_exporter": "python",
   "pygments_lexer": "ipython3",
   "version": "3.5.2"
  }
 },
 "nbformat": 4,
 "nbformat_minor": 2
}
